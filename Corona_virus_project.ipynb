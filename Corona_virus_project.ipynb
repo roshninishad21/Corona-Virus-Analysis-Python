{
 "cells": [
  {
   "cell_type": "code",
   "execution_count": 55,
   "id": "ceeb4ef3-9f79-441f-b7dc-ca6ea49f4cdf",
   "metadata": {},
   "outputs": [],
   "source": [
    "import pandas as pd"
   ]
  },
  {
   "cell_type": "code",
   "execution_count": 2,
   "id": "fa23f81e-75b4-4d80-9cc6-ac89bf15c6fe",
   "metadata": {},
   "outputs": [
    {
     "data": {
      "text/html": [
       "<div>\n",
       "<style scoped>\n",
       "    .dataframe tbody tr th:only-of-type {\n",
       "        vertical-align: middle;\n",
       "    }\n",
       "\n",
       "    .dataframe tbody tr th {\n",
       "        vertical-align: top;\n",
       "    }\n",
       "\n",
       "    .dataframe thead th {\n",
       "        text-align: right;\n",
       "    }\n",
       "</style>\n",
       "<table border=\"1\" class=\"dataframe\">\n",
       "  <thead>\n",
       "    <tr style=\"text-align: right;\">\n",
       "      <th></th>\n",
       "      <th>SNo</th>\n",
       "      <th>ObservationDate</th>\n",
       "      <th>Province/State</th>\n",
       "      <th>Country/Region</th>\n",
       "      <th>Last Update</th>\n",
       "      <th>Confirmed</th>\n",
       "      <th>Deaths</th>\n",
       "      <th>Recovered</th>\n",
       "    </tr>\n",
       "  </thead>\n",
       "  <tbody>\n",
       "    <tr>\n",
       "      <th>0</th>\n",
       "      <td>1</td>\n",
       "      <td>01/22/2020</td>\n",
       "      <td>Anhui</td>\n",
       "      <td>Mainland China</td>\n",
       "      <td>1/22/2020 17:00</td>\n",
       "      <td>1.0</td>\n",
       "      <td>0.0</td>\n",
       "      <td>0.0</td>\n",
       "    </tr>\n",
       "    <tr>\n",
       "      <th>1</th>\n",
       "      <td>2</td>\n",
       "      <td>01/22/2020</td>\n",
       "      <td>Beijing</td>\n",
       "      <td>Mainland China</td>\n",
       "      <td>1/22/2020 17:00</td>\n",
       "      <td>14.0</td>\n",
       "      <td>0.0</td>\n",
       "      <td>0.0</td>\n",
       "    </tr>\n",
       "    <tr>\n",
       "      <th>2</th>\n",
       "      <td>3</td>\n",
       "      <td>01/22/2020</td>\n",
       "      <td>Chongqing</td>\n",
       "      <td>Mainland China</td>\n",
       "      <td>1/22/2020 17:00</td>\n",
       "      <td>6.0</td>\n",
       "      <td>0.0</td>\n",
       "      <td>0.0</td>\n",
       "    </tr>\n",
       "    <tr>\n",
       "      <th>3</th>\n",
       "      <td>4</td>\n",
       "      <td>01/22/2020</td>\n",
       "      <td>Fujian</td>\n",
       "      <td>Mainland China</td>\n",
       "      <td>1/22/2020 17:00</td>\n",
       "      <td>1.0</td>\n",
       "      <td>0.0</td>\n",
       "      <td>0.0</td>\n",
       "    </tr>\n",
       "    <tr>\n",
       "      <th>4</th>\n",
       "      <td>5</td>\n",
       "      <td>01/22/2020</td>\n",
       "      <td>Gansu</td>\n",
       "      <td>Mainland China</td>\n",
       "      <td>1/22/2020 17:00</td>\n",
       "      <td>0.0</td>\n",
       "      <td>0.0</td>\n",
       "      <td>0.0</td>\n",
       "    </tr>\n",
       "    <tr>\n",
       "      <th>...</th>\n",
       "      <td>...</td>\n",
       "      <td>...</td>\n",
       "      <td>...</td>\n",
       "      <td>...</td>\n",
       "      <td>...</td>\n",
       "      <td>...</td>\n",
       "      <td>...</td>\n",
       "      <td>...</td>\n",
       "    </tr>\n",
       "    <tr>\n",
       "      <th>306424</th>\n",
       "      <td>306425</td>\n",
       "      <td>05/29/2021</td>\n",
       "      <td>Zaporizhia Oblast</td>\n",
       "      <td>Ukraine</td>\n",
       "      <td>2021-05-30 04:20:55</td>\n",
       "      <td>102641.0</td>\n",
       "      <td>2335.0</td>\n",
       "      <td>95289.0</td>\n",
       "    </tr>\n",
       "    <tr>\n",
       "      <th>306425</th>\n",
       "      <td>306426</td>\n",
       "      <td>05/29/2021</td>\n",
       "      <td>Zeeland</td>\n",
       "      <td>Netherlands</td>\n",
       "      <td>2021-05-30 04:20:55</td>\n",
       "      <td>29147.0</td>\n",
       "      <td>245.0</td>\n",
       "      <td>0.0</td>\n",
       "    </tr>\n",
       "    <tr>\n",
       "      <th>306426</th>\n",
       "      <td>306427</td>\n",
       "      <td>05/29/2021</td>\n",
       "      <td>Zhejiang</td>\n",
       "      <td>Mainland China</td>\n",
       "      <td>2021-05-30 04:20:55</td>\n",
       "      <td>1364.0</td>\n",
       "      <td>1.0</td>\n",
       "      <td>1324.0</td>\n",
       "    </tr>\n",
       "    <tr>\n",
       "      <th>306427</th>\n",
       "      <td>306428</td>\n",
       "      <td>05/29/2021</td>\n",
       "      <td>Zhytomyr Oblast</td>\n",
       "      <td>Ukraine</td>\n",
       "      <td>2021-05-30 04:20:55</td>\n",
       "      <td>87550.0</td>\n",
       "      <td>1738.0</td>\n",
       "      <td>83790.0</td>\n",
       "    </tr>\n",
       "    <tr>\n",
       "      <th>306428</th>\n",
       "      <td>306429</td>\n",
       "      <td>05/29/2021</td>\n",
       "      <td>Zuid-Holland</td>\n",
       "      <td>Netherlands</td>\n",
       "      <td>2021-05-30 04:20:55</td>\n",
       "      <td>391559.0</td>\n",
       "      <td>4252.0</td>\n",
       "      <td>0.0</td>\n",
       "    </tr>\n",
       "  </tbody>\n",
       "</table>\n",
       "<p>306429 rows × 8 columns</p>\n",
       "</div>"
      ],
      "text/plain": [
       "           SNo ObservationDate     Province/State  Country/Region  \\\n",
       "0            1      01/22/2020              Anhui  Mainland China   \n",
       "1            2      01/22/2020            Beijing  Mainland China   \n",
       "2            3      01/22/2020          Chongqing  Mainland China   \n",
       "3            4      01/22/2020             Fujian  Mainland China   \n",
       "4            5      01/22/2020              Gansu  Mainland China   \n",
       "...        ...             ...                ...             ...   \n",
       "306424  306425      05/29/2021  Zaporizhia Oblast         Ukraine   \n",
       "306425  306426      05/29/2021            Zeeland     Netherlands   \n",
       "306426  306427      05/29/2021           Zhejiang  Mainland China   \n",
       "306427  306428      05/29/2021    Zhytomyr Oblast         Ukraine   \n",
       "306428  306429      05/29/2021       Zuid-Holland     Netherlands   \n",
       "\n",
       "                Last Update  Confirmed  Deaths  Recovered  \n",
       "0           1/22/2020 17:00        1.0     0.0        0.0  \n",
       "1           1/22/2020 17:00       14.0     0.0        0.0  \n",
       "2           1/22/2020 17:00        6.0     0.0        0.0  \n",
       "3           1/22/2020 17:00        1.0     0.0        0.0  \n",
       "4           1/22/2020 17:00        0.0     0.0        0.0  \n",
       "...                     ...        ...     ...        ...  \n",
       "306424  2021-05-30 04:20:55   102641.0  2335.0    95289.0  \n",
       "306425  2021-05-30 04:20:55    29147.0   245.0        0.0  \n",
       "306426  2021-05-30 04:20:55     1364.0     1.0     1324.0  \n",
       "306427  2021-05-30 04:20:55    87550.0  1738.0    83790.0  \n",
       "306428  2021-05-30 04:20:55   391559.0  4252.0        0.0  \n",
       "\n",
       "[306429 rows x 8 columns]"
      ]
     },
     "execution_count": 2,
     "metadata": {},
     "output_type": "execute_result"
    }
   ],
   "source": [
    "df=pd.read_csv(\"C:/Users/LAXMI NISHAD/OneDrive/Desktop/Python_lectures/covid_19_data.csv\")\n",
    "df"
   ]
  },
  {
   "cell_type": "code",
   "execution_count": 5,
   "id": "8987485b-34b8-48c8-8b11-406543c63fd1",
   "metadata": {},
   "outputs": [
    {
     "data": {
      "text/plain": [
       "26252051758.0"
      ]
     },
     "execution_count": 5,
     "metadata": {},
     "output_type": "execute_result"
    }
   ],
   "source": [
    "# 1.What is the total number of confirmed cases worldwide?\n",
    "df['Confirmed'].sum()"
   ]
  },
  {
   "cell_type": "code",
   "execution_count": 65,
   "id": "2c14a31a-2182-4527-8a3f-95f027535dff",
   "metadata": {},
   "outputs": [
    {
     "name": "stdout",
     "output_type": "stream",
     "text": [
      "20089\n"
     ]
    }
   ],
   "source": [
    "# 2.How many deaths have been reported globally?\n",
    "df1=df['Deaths'].unique()\n",
    "print(len(df1))"
   ]
  },
  {
   "cell_type": "code",
   "execution_count": 23,
   "id": "1d66c78b-78b9-4b79-aebe-40c7edb8b40d",
   "metadata": {},
   "outputs": [
    {
     "data": {
      "text/plain": [
       "15450237912.0"
      ]
     },
     "execution_count": 23,
     "metadata": {},
     "output_type": "execute_result"
    }
   ],
   "source": [
    "# 3.What is the total number of recovered cases worldwide?\n",
    "df['Recovered'].sum()"
   ]
  },
  {
   "cell_type": "code",
   "execution_count": 63,
   "id": "7499c94f-b1a8-4dda-ab0b-073a935c2552",
   "metadata": {},
   "outputs": [
    {
     "name": "stdout",
     "output_type": "stream",
     "text": [
      "229\n"
     ]
    }
   ],
   "source": [
    "# 4.How many countries/regions are represented in the dataset?\n",
    "df1=df['Country/Region'].unique()\n",
    "print(len(df1))"
   ]
  },
  {
   "cell_type": "code",
   "execution_count": 120,
   "id": "12e1d47f-2764-47e0-8470-fe4228615b9d",
   "metadata": {
    "scrolled": true
   },
   "outputs": [
    {
     "data": {
      "text/plain": [
       "<Axes: xlabel='Date', ylabel='Total Confirmed Cases'>"
      ]
     },
     "execution_count": 120,
     "metadata": {},
     "output_type": "execute_result"
    },
    {
     "data": {
      "image/png": "[encoded data removed]",
      "text/plain": [
       "<Figure size 640x480 with 1 Axes>"
      ]
     },
     "metadata": {},
     "output_type": "display_data"
    }
   ],
   "source": [
    "# 5.What is the trend of confirmed cases over time globally?\n",
    "trend=df.groupby('ObservationDate') ['Confirmed'].sum().reset_index()\n",
    "g_trend=trend.sort_values(by='ObservationDate')\n",
    "g_trend.plot(kind='line',marker='o',linestyle='-',grid=True,xlabel='Date',ylabel='Total Confirmed Cases')"
   ]
  },
  {
   "cell_type": "code",
   "execution_count": 24,
   "id": "ad0084c0-a5ba-4535-8ddc-f7147850f286",
   "metadata": {},
   "outputs": [
    {
     "name": "stdout",
     "output_type": "stream",
     "text": [
      "Maharashtra = 5863138.0\n"
     ]
    }
   ],
   "source": [
    "# 6.Which province/state has reported the highest number of confirmed cases?\n",
    "max_conf=df.groupby(by='Province/State')['Confirmed'].max()\n",
    "conf_case=max_conf.idxmax()\n",
    "print(conf_case,'=',df['Confirmed'].max())"
   ]
  },
  {
   "cell_type": "code",
   "execution_count": 25,
   "id": "49ac85f2-c571-45d3-9eb9-beb6927f79e1",
   "metadata": {},
   "outputs": [
    {
     "name": "stdout",
     "output_type": "stream",
     "text": [
      "UK = 112385.0\n"
     ]
    }
   ],
   "source": [
    "# 7.Which country/region has the highest number of deaths?\n",
    "max_deaths=df.groupby(by='Country/Region')['Deaths'].max()\n",
    "deaths=max_deaths.idxmax()\n",
    "print(deaths,'=',df['Deaths'].max())"
   ]
  },
  {
   "cell_type": "code",
   "execution_count": 77,
   "id": "d394dc53-01af-4417-8c36-e2a4e82167f7",
   "metadata": {},
   "outputs": [
    {
     "data": {
      "text/html": [
       "<div>\n",
       "<style scoped>\n",
       "    .dataframe tbody tr th:only-of-type {\n",
       "        vertical-align: middle;\n",
       "    }\n",
       "\n",
       "    .dataframe tbody tr th {\n",
       "        vertical-align: top;\n",
       "    }\n",
       "\n",
       "    .dataframe thead th {\n",
       "        text-align: right;\n",
       "    }\n",
       "</style>\n",
       "<table border=\"1\" class=\"dataframe\">\n",
       "  <thead>\n",
       "    <tr style=\"text-align: right;\">\n",
       "      <th></th>\n",
       "      <th>Province/State</th>\n",
       "      <th>Confirmed</th>\n",
       "    </tr>\n",
       "  </thead>\n",
       "  <tbody>\n",
       "    <tr>\n",
       "      <th>88</th>\n",
       "      <td>California</td>\n",
       "      <td>696898013.0</td>\n",
       "    </tr>\n",
       "    <tr>\n",
       "      <th>365</th>\n",
       "      <td>Maharashtra</td>\n",
       "      <td>681186928.0</td>\n",
       "    </tr>\n",
       "    <tr>\n",
       "      <th>171</th>\n",
       "      <td>England</td>\n",
       "      <td>666227518.0</td>\n",
       "    </tr>\n",
       "    <tr>\n",
       "      <th>630</th>\n",
       "      <td>Texas</td>\n",
       "      <td>552039886.0</td>\n",
       "    </tr>\n",
       "    <tr>\n",
       "      <th>570</th>\n",
       "      <td>Sao Paulo</td>\n",
       "      <td>521308945.0</td>\n",
       "    </tr>\n",
       "    <tr>\n",
       "      <th>...</th>\n",
       "      <td>...</td>\n",
       "      <td>...</td>\n",
       "    </tr>\n",
       "    <tr>\n",
       "      <th>17</th>\n",
       "      <td>American Samoa</td>\n",
       "      <td>0.0</td>\n",
       "    </tr>\n",
       "    <tr>\n",
       "      <th>278</th>\n",
       "      <td>Jervis Bay Territory</td>\n",
       "      <td>0.0</td>\n",
       "    </tr>\n",
       "    <tr>\n",
       "      <th>526</th>\n",
       "      <td>Recovered</td>\n",
       "      <td>0.0</td>\n",
       "    </tr>\n",
       "    <tr>\n",
       "      <th>404</th>\n",
       "      <td>Montgomery County, TX</td>\n",
       "      <td>0.0</td>\n",
       "    </tr>\n",
       "    <tr>\n",
       "      <th>173</th>\n",
       "      <td>External territories</td>\n",
       "      <td>0.0</td>\n",
       "    </tr>\n",
       "  </tbody>\n",
       "</table>\n",
       "<p>736 rows × 2 columns</p>\n",
       "</div>"
      ],
      "text/plain": [
       "            Province/State    Confirmed\n",
       "88              California  696898013.0\n",
       "365            Maharashtra  681186928.0\n",
       "171                England  666227518.0\n",
       "630                  Texas  552039886.0\n",
       "570              Sao Paulo  521308945.0\n",
       "..                     ...          ...\n",
       "17          American Samoa          0.0\n",
       "278   Jervis Bay Territory          0.0\n",
       "526              Recovered          0.0\n",
       "404  Montgomery County, TX          0.0\n",
       "173   External territories          0.0\n",
       "\n",
       "[736 rows x 2 columns]"
      ]
     },
     "execution_count": 77,
     "metadata": {},
     "output_type": "execute_result"
    }
   ],
   "source": [
    "# 8.How does the number of confirmed cases vary across different provinces/states?\n",
    "p_s=df.groupby(by='Province/State')['Confirmed'].sum().reset_index()\n",
    "df1=p_s.sort_values(by='Confirmed',ascending=False)\n",
    "df1"
   ]
  },
  {
   "cell_type": "code",
   "execution_count": 79,
   "id": "56340991-5bf3-4a2a-90bc-d548f8dde7c7",
   "metadata": {},
   "outputs": [
    {
     "data": {
      "text/plain": [
       "<Axes: xlabel='Date', ylabel='Total Deaths'>"
      ]
     },
     "execution_count": 79,
     "metadata": {},
     "output_type": "execute_result"
    },
    {
     "data": {
      "image/png": "[encoded data removed]",
      "text/plain": [
       "<Figure size 640x480 with 1 Axes>"
      ]
     },
     "metadata": {},
     "output_type": "display_data"
    }
   ],
   "source": [
    "# 9.What is the trend of deaths over time globally?\n",
    "trend=df.groupby('ObservationDate')['Deaths'].sum().reset_index()\n",
    "g_trend=trend.sort_values(by='ObservationDate')\n",
    "g_trend.plot(kind='line',linestyle='-',grid=True,xlabel='Date',ylabel='Total Deaths')"
   ]
  },
  {
   "cell_type": "code",
   "execution_count": 86,
   "id": "b6d938f2-77d7-4db0-8648-08284317dc87",
   "metadata": {},
   "outputs": [
    {
     "name": "stdout",
     "output_type": "stream",
     "text": [
      "US = 6399531.0\n"
     ]
    }
   ],
   "source": [
    "# 10.Which country/region has the highest number of recovered cases?\n",
    "country=df.groupby('Country/Region')['Recovered'].max()\n",
    "df1=country.idxmax()\n",
    "print(df1,'=',df['Recovered'].max())"
   ]
  },
  {
   "cell_type": "code",
   "execution_count": 88,
   "id": "96374b82-ab97-41f2-aa78-fca015a2147f",
   "metadata": {},
   "outputs": [
    {
     "data": {
      "text/html": [
       "<div>\n",
       "<style scoped>\n",
       "    .dataframe tbody tr th:only-of-type {\n",
       "        vertical-align: middle;\n",
       "    }\n",
       "\n",
       "    .dataframe tbody tr th {\n",
       "        vertical-align: top;\n",
       "    }\n",
       "\n",
       "    .dataframe thead th {\n",
       "        text-align: right;\n",
       "    }\n",
       "</style>\n",
       "<table border=\"1\" class=\"dataframe\">\n",
       "  <thead>\n",
       "    <tr style=\"text-align: right;\">\n",
       "      <th></th>\n",
       "      <th>Country/Region</th>\n",
       "      <th>Recovered</th>\n",
       "    </tr>\n",
       "  </thead>\n",
       "  <tbody>\n",
       "    <tr>\n",
       "      <th>96</th>\n",
       "      <td>India</td>\n",
       "      <td>2.900590e+09</td>\n",
       "    </tr>\n",
       "    <tr>\n",
       "      <th>27</th>\n",
       "      <td>Brazil</td>\n",
       "      <td>2.313677e+09</td>\n",
       "    </tr>\n",
       "    <tr>\n",
       "      <th>172</th>\n",
       "      <td>Russia</td>\n",
       "      <td>7.907057e+08</td>\n",
       "    </tr>\n",
       "    <tr>\n",
       "      <th>212</th>\n",
       "      <td>Turkey</td>\n",
       "      <td>5.641706e+08</td>\n",
       "    </tr>\n",
       "    <tr>\n",
       "      <th>214</th>\n",
       "      <td>US</td>\n",
       "      <td>5.033710e+08</td>\n",
       "    </tr>\n",
       "    <tr>\n",
       "      <th>...</th>\n",
       "      <td>...</td>\n",
       "      <td>...</td>\n",
       "    </tr>\n",
       "    <tr>\n",
       "      <th>166</th>\n",
       "      <td>Puerto Rico</td>\n",
       "      <td>0.000000e+00</td>\n",
       "    </tr>\n",
       "    <tr>\n",
       "      <th>168</th>\n",
       "      <td>Republic of Ireland</td>\n",
       "      <td>0.000000e+00</td>\n",
       "    </tr>\n",
       "    <tr>\n",
       "      <th>169</th>\n",
       "      <td>Republic of the Congo</td>\n",
       "      <td>0.000000e+00</td>\n",
       "    </tr>\n",
       "    <tr>\n",
       "      <th>170</th>\n",
       "      <td>Reunion</td>\n",
       "      <td>0.000000e+00</td>\n",
       "    </tr>\n",
       "    <tr>\n",
       "      <th>228</th>\n",
       "      <td>occupied Palestinian territory</td>\n",
       "      <td>0.000000e+00</td>\n",
       "    </tr>\n",
       "  </tbody>\n",
       "</table>\n",
       "<p>229 rows × 2 columns</p>\n",
       "</div>"
      ],
      "text/plain": [
       "                     Country/Region     Recovered\n",
       "96                            India  2.900590e+09\n",
       "27                           Brazil  2.313677e+09\n",
       "172                          Russia  7.907057e+08\n",
       "212                          Turkey  5.641706e+08\n",
       "214                              US  5.033710e+08\n",
       "..                              ...           ...\n",
       "166                     Puerto Rico  0.000000e+00\n",
       "168             Republic of Ireland  0.000000e+00\n",
       "169           Republic of the Congo  0.000000e+00\n",
       "170                         Reunion  0.000000e+00\n",
       "228  occupied Palestinian territory  0.000000e+00\n",
       "\n",
       "[229 rows x 2 columns]"
      ]
     },
     "execution_count": 88,
     "metadata": {},
     "output_type": "execute_result"
    }
   ],
   "source": [
    "# 11.How does the number of recovered cases vary across different countries/regions?\n",
    "c_r=df.groupby('Country/Region')['Recovered'].sum().reset_index()\n",
    "df1=c_r.sort_values(by='Recovered',ascending=False)\n",
    "df1"
   ]
  },
  {
   "cell_type": "code",
   "execution_count": 107,
   "id": "4ede19a3-3f39-405d-b690-8d66d8659082",
   "metadata": {},
   "outputs": [
    {
     "data": {
      "text/plain": [
       "<Axes: ylabel='Count'>"
      ]
     },
     "execution_count": 107,
     "metadata": {},
     "output_type": "execute_result"
    },
    {
     "data": {
      "image/png": "[encoded data removed]",
      "text/plain": [
       "<Figure size 640x480 with 1 Axes>"
      ]
     },
     "metadata": {},
     "output_type": "display_data"
    }
   ],
   "source": [
    "# 12.What is the distribution of confirmed cases by country/region?\n",
    "import seaborn as sns\n",
    "dst=df.groupby('Country/Region')['Confirmed'].sum().reset_index()\n",
    "sns.histplot(data=dst,kde=True,bins=30)"
   ]
  },
  {
   "cell_type": "code",
   "execution_count": 108,
   "id": "12db4f75-4693-471c-8ff4-99913a49ac6b",
   "metadata": {},
   "outputs": [
    {
     "data": {
      "text/html": [
       "<div>\n",
       "<style scoped>\n",
       "    .dataframe tbody tr th:only-of-type {\n",
       "        vertical-align: middle;\n",
       "    }\n",
       "\n",
       "    .dataframe tbody tr th {\n",
       "        vertical-align: top;\n",
       "    }\n",
       "\n",
       "    .dataframe thead th {\n",
       "        text-align: right;\n",
       "    }\n",
       "</style>\n",
       "<table border=\"1\" class=\"dataframe\">\n",
       "  <thead>\n",
       "    <tr style=\"text-align: right;\">\n",
       "      <th></th>\n",
       "      <th>Confirmed</th>\n",
       "      <th>Deaths</th>\n",
       "    </tr>\n",
       "  </thead>\n",
       "  <tbody>\n",
       "    <tr>\n",
       "      <th>Confirmed</th>\n",
       "      <td>1.000000</td>\n",
       "      <td>0.888416</td>\n",
       "    </tr>\n",
       "    <tr>\n",
       "      <th>Deaths</th>\n",
       "      <td>0.888416</td>\n",
       "      <td>1.000000</td>\n",
       "    </tr>\n",
       "  </tbody>\n",
       "</table>\n",
       "</div>"
      ],
      "text/plain": [
       "           Confirmed    Deaths\n",
       "Confirmed   1.000000  0.888416\n",
       "Deaths      0.888416  1.000000"
      ]
     },
     "execution_count": 108,
     "metadata": {},
     "output_type": "execute_result"
    }
   ],
   "source": [
    "# 13.Is there a correlation between the number of confirmed cases and deaths?\n",
    "df[['Confirmed','Deaths']].corr()"
   ]
  },
  {
   "cell_type": "code",
   "execution_count": 109,
   "id": "733eceea-aa80-435b-88a1-a6f973d919e3",
   "metadata": {},
   "outputs": [
    {
     "data": {
      "text/html": [
       "<div>\n",
       "<style scoped>\n",
       "    .dataframe tbody tr th:only-of-type {\n",
       "        vertical-align: middle;\n",
       "    }\n",
       "\n",
       "    .dataframe tbody tr th {\n",
       "        vertical-align: top;\n",
       "    }\n",
       "\n",
       "    .dataframe thead th {\n",
       "        text-align: right;\n",
       "    }\n",
       "</style>\n",
       "<table border=\"1\" class=\"dataframe\">\n",
       "  <thead>\n",
       "    <tr style=\"text-align: right;\">\n",
       "      <th></th>\n",
       "      <th>Confirmed</th>\n",
       "      <th>Recovered</th>\n",
       "    </tr>\n",
       "  </thead>\n",
       "  <tbody>\n",
       "    <tr>\n",
       "      <th>Confirmed</th>\n",
       "      <td>1.000000</td>\n",
       "      <td>0.633479</td>\n",
       "    </tr>\n",
       "    <tr>\n",
       "      <th>Recovered</th>\n",
       "      <td>0.633479</td>\n",
       "      <td>1.000000</td>\n",
       "    </tr>\n",
       "  </tbody>\n",
       "</table>\n",
       "</div>"
      ],
      "text/plain": [
       "           Confirmed  Recovered\n",
       "Confirmed   1.000000   0.633479\n",
       "Recovered   0.633479   1.000000"
      ]
     },
     "execution_count": 109,
     "metadata": {},
     "output_type": "execute_result"
    }
   ],
   "source": [
    "# 14.Is there a correlation between the number of confirmed cases and recovered cases?\n",
    "df[['Confirmed','Recovered']].corr()"
   ]
  },
  {
   "cell_type": "code",
   "execution_count": 115,
   "id": "b9e5afd3-c25b-449d-9931-01274d457204",
   "metadata": {},
   "outputs": [
    {
     "data": {
      "text/html": [
       "<div>\n",
       "<style scoped>\n",
       "    .dataframe tbody tr th:only-of-type {\n",
       "        vertical-align: middle;\n",
       "    }\n",
       "\n",
       "    .dataframe tbody tr th {\n",
       "        vertical-align: top;\n",
       "    }\n",
       "\n",
       "    .dataframe thead th {\n",
       "        text-align: right;\n",
       "    }\n",
       "</style>\n",
       "<table border=\"1\" class=\"dataframe\">\n",
       "  <thead>\n",
       "    <tr style=\"text-align: right;\">\n",
       "      <th></th>\n",
       "      <th>Country/Region</th>\n",
       "      <th>Confirmed</th>\n",
       "      <th>Deaths</th>\n",
       "      <th>Mortality Rate</th>\n",
       "    </tr>\n",
       "  </thead>\n",
       "  <tbody>\n",
       "    <tr>\n",
       "      <th>225</th>\n",
       "      <td>Yemen</td>\n",
       "      <td>962066.0</td>\n",
       "      <td>237613.0</td>\n",
       "      <td>24.698202</td>\n",
       "    </tr>\n",
       "    <tr>\n",
       "      <th>123</th>\n",
       "      <td>MS Zaandam</td>\n",
       "      <td>3824.0</td>\n",
       "      <td>848.0</td>\n",
       "      <td>22.175732</td>\n",
       "    </tr>\n",
       "    <tr>\n",
       "      <th>220</th>\n",
       "      <td>Vanuatu</td>\n",
       "      <td>406.0</td>\n",
       "      <td>39.0</td>\n",
       "      <td>9.605911</td>\n",
       "    </tr>\n",
       "    <tr>\n",
       "      <th>137</th>\n",
       "      <td>Mexico</td>\n",
       "      <td>460463678.0</td>\n",
       "      <td>43005509.0</td>\n",
       "      <td>9.339609</td>\n",
       "    </tr>\n",
       "    <tr>\n",
       "      <th>197</th>\n",
       "      <td>Sudan</td>\n",
       "      <td>7632455.0</td>\n",
       "      <td>488709.0</td>\n",
       "      <td>6.403038</td>\n",
       "    </tr>\n",
       "    <tr>\n",
       "      <th>...</th>\n",
       "      <td>...</td>\n",
       "      <td>...</td>\n",
       "      <td>...</td>\n",
       "      <td>...</td>\n",
       "    </tr>\n",
       "    <tr>\n",
       "      <th>124</th>\n",
       "      <td>Macau</td>\n",
       "      <td>20605.0</td>\n",
       "      <td>0.0</td>\n",
       "      <td>0.000000</td>\n",
       "    </tr>\n",
       "    <tr>\n",
       "      <th>1</th>\n",
       "      <td>('St. Martin',)</td>\n",
       "      <td>2.0</td>\n",
       "      <td>0.0</td>\n",
       "      <td>0.000000</td>\n",
       "    </tr>\n",
       "    <tr>\n",
       "      <th>110</th>\n",
       "      <td>Kiribati</td>\n",
       "      <td>21.0</td>\n",
       "      <td>0.0</td>\n",
       "      <td>0.000000</td>\n",
       "    </tr>\n",
       "    <tr>\n",
       "      <th>228</th>\n",
       "      <td>occupied Palestinian territory</td>\n",
       "      <td>25.0</td>\n",
       "      <td>0.0</td>\n",
       "      <td>0.000000</td>\n",
       "    </tr>\n",
       "    <tr>\n",
       "      <th>43</th>\n",
       "      <td>China</td>\n",
       "      <td>0.0</td>\n",
       "      <td>0.0</td>\n",
       "      <td>NaN</td>\n",
       "    </tr>\n",
       "  </tbody>\n",
       "</table>\n",
       "<p>229 rows × 4 columns</p>\n",
       "</div>"
      ],
      "text/plain": [
       "                     Country/Region    Confirmed      Deaths  Mortality Rate\n",
       "225                           Yemen     962066.0    237613.0       24.698202\n",
       "123                      MS Zaandam       3824.0       848.0       22.175732\n",
       "220                         Vanuatu        406.0        39.0        9.605911\n",
       "137                          Mexico  460463678.0  43005509.0        9.339609\n",
       "197                           Sudan    7632455.0    488709.0        6.403038\n",
       "..                              ...          ...         ...             ...\n",
       "124                           Macau      20605.0         0.0        0.000000\n",
       "1                   ('St. Martin',)          2.0         0.0        0.000000\n",
       "110                        Kiribati         21.0         0.0        0.000000\n",
       "228  occupied Palestinian territory         25.0         0.0        0.000000\n",
       "43                            China          0.0         0.0             NaN\n",
       "\n",
       "[229 rows x 4 columns]"
      ]
     },
     "execution_count": 115,
     "metadata": {},
     "output_type": "execute_result"
    }
   ],
   "source": [
    "# 15.How does the mortality rate vary across different countries/regions?\n",
    "country = df.groupby('Country/Region')[['Confirmed','Deaths']].sum().reset_index()\n",
    "country['Mortality Rate'] = (country['Deaths'] / country['Confirmed']) * 100\n",
    "country_sorted = country.sort_values(by='Mortality Rate', ascending=False)\n",
    "country_sorted"
   ]
  },
  {
   "cell_type": "code",
   "execution_count": 119,
   "id": "fe14c6a9-b618-4b87-9694-3f723664a9cd",
   "metadata": {},
   "outputs": [
    {
     "data": {
      "text/html": [
       "<div>\n",
       "<style scoped>\n",
       "    .dataframe tbody tr th:only-of-type {\n",
       "        vertical-align: middle;\n",
       "    }\n",
       "\n",
       "    .dataframe tbody tr th {\n",
       "        vertical-align: top;\n",
       "    }\n",
       "\n",
       "    .dataframe thead th {\n",
       "        text-align: right;\n",
       "    }\n",
       "</style>\n",
       "<table border=\"1\" class=\"dataframe\">\n",
       "  <thead>\n",
       "    <tr style=\"text-align: right;\">\n",
       "      <th></th>\n",
       "      <th>Country/Region</th>\n",
       "      <th>Recovered</th>\n",
       "      <th>Confirmed</th>\n",
       "      <th>Recovery Rate</th>\n",
       "    </tr>\n",
       "  </thead>\n",
       "  <tbody>\n",
       "    <tr>\n",
       "      <th>219</th>\n",
       "      <td>Uzbekistan</td>\n",
       "      <td>21035683.0</td>\n",
       "      <td>22207571.0</td>\n",
       "      <td>94.723025</td>\n",
       "    </tr>\n",
       "    <tr>\n",
       "      <th>78</th>\n",
       "      <td>Ghana</td>\n",
       "      <td>19586296.0</td>\n",
       "      <td>20784664.0</td>\n",
       "      <td>94.234364</td>\n",
       "    </tr>\n",
       "    <tr>\n",
       "      <th>55</th>\n",
       "      <td>Diamond Princess</td>\n",
       "      <td>288580.0</td>\n",
       "      <td>306872.0</td>\n",
       "      <td>94.039209</td>\n",
       "    </tr>\n",
       "    <tr>\n",
       "      <th>138</th>\n",
       "      <td>Micronesia</td>\n",
       "      <td>121.0</td>\n",
       "      <td>129.0</td>\n",
       "      <td>93.798450</td>\n",
       "    </tr>\n",
       "    <tr>\n",
       "      <th>95</th>\n",
       "      <td>Iceland</td>\n",
       "      <td>1621682.0</td>\n",
       "      <td>1729527.0</td>\n",
       "      <td>93.764480</td>\n",
       "    </tr>\n",
       "    <tr>\n",
       "      <th>...</th>\n",
       "      <td>...</td>\n",
       "      <td>...</td>\n",
       "      <td>...</td>\n",
       "      <td>...</td>\n",
       "    </tr>\n",
       "    <tr>\n",
       "      <th>168</th>\n",
       "      <td>Republic of Ireland</td>\n",
       "      <td>0.0</td>\n",
       "      <td>21.0</td>\n",
       "      <td>0.000000</td>\n",
       "    </tr>\n",
       "    <tr>\n",
       "      <th>169</th>\n",
       "      <td>Republic of the Congo</td>\n",
       "      <td>0.0</td>\n",
       "      <td>1.0</td>\n",
       "      <td>0.000000</td>\n",
       "    </tr>\n",
       "    <tr>\n",
       "      <th>170</th>\n",
       "      <td>Reunion</td>\n",
       "      <td>0.0</td>\n",
       "      <td>137.0</td>\n",
       "      <td>0.000000</td>\n",
       "    </tr>\n",
       "    <tr>\n",
       "      <th>228</th>\n",
       "      <td>occupied Palestinian territory</td>\n",
       "      <td>0.0</td>\n",
       "      <td>25.0</td>\n",
       "      <td>0.000000</td>\n",
       "    </tr>\n",
       "    <tr>\n",
       "      <th>43</th>\n",
       "      <td>China</td>\n",
       "      <td>0.0</td>\n",
       "      <td>0.0</td>\n",
       "      <td>NaN</td>\n",
       "    </tr>\n",
       "  </tbody>\n",
       "</table>\n",
       "<p>229 rows × 4 columns</p>\n",
       "</div>"
      ],
      "text/plain": [
       "                     Country/Region   Recovered   Confirmed  Recovery Rate\n",
       "219                      Uzbekistan  21035683.0  22207571.0      94.723025\n",
       "78                            Ghana  19586296.0  20784664.0      94.234364\n",
       "55                 Diamond Princess    288580.0    306872.0      94.039209\n",
       "138                      Micronesia       121.0       129.0      93.798450\n",
       "95                          Iceland   1621682.0   1729527.0      93.764480\n",
       "..                              ...         ...         ...            ...\n",
       "168             Republic of Ireland         0.0        21.0       0.000000\n",
       "169           Republic of the Congo         0.0         1.0       0.000000\n",
       "170                         Reunion         0.0       137.0       0.000000\n",
       "228  occupied Palestinian territory         0.0        25.0       0.000000\n",
       "43                            China         0.0         0.0            NaN\n",
       "\n",
       "[229 rows x 4 columns]"
      ]
     },
     "execution_count": 119,
     "metadata": {},
     "output_type": "execute_result"
    }
   ],
   "source": [
    "# 16.How does the recovery rate vary across different countries/regions?\n",
    "country=df.groupby('Country/Region')[['Recovered','Confirmed']].sum().reset_index()\n",
    "country['Recovery Rate']=(country['Recovered'] / country['Confirmed'])*100\n",
    "country_sorted=country.sort_values(by='Recovery Rate',ascending=False)\n",
    "country_sorted"
   ]
  },
  {
   "cell_type": "code",
   "execution_count": 168,
   "id": "c2db0d42-7569-47f5-baf9-5364284092c7",
   "metadata": {},
   "outputs": [
    {
     "data": {
      "text/plain": [
       "[<matplotlib.lines.Line2D at 0x1d12e0222a0>]"
      ]
     },
     "execution_count": 168,
     "metadata": {},
     "output_type": "execute_result"
    },
    {
     "data": {
      "image/png": "[encoded data removed]",
      "text/plain": [
       "<Figure size 1200x600 with 1 Axes>"
      ]
     },
     "metadata": {},
     "output_type": "display_data"
    }
   ],
   "source": [
    "# 17.What is the trend of new confirmed cases over time globally?\n",
    "df['ObservationDate'] = pd.to_datetime(df['ObservationDate'])\n",
    "df = df.sort_values(by='ObservationDate')\n",
    "df['New Confirmed'] = df['Confirmed'].diff().fillna(0)\n",
    "global_new_cases = df.groupby('ObservationDate')['New Confirmed'].sum().reset_index()\n",
    "plt.figure(figsize=(12,6))\n",
    "plt.plot(global_new_cases['ObservationDate'],global_new_cases['New Confirmed'],linestyle='-',marker='o')"
   ]
  },
  {
   "cell_type": "code",
   "execution_count": 143,
   "id": "ba55d3b6-9d79-4127-8f6c-027d6591d5f5",
   "metadata": {},
   "outputs": [
    {
     "data": {
      "text/html": [
       "<div>\n",
       "<style scoped>\n",
       "    .dataframe tbody tr th:only-of-type {\n",
       "        vertical-align: middle;\n",
       "    }\n",
       "\n",
       "    .dataframe tbody tr th {\n",
       "        vertical-align: top;\n",
       "    }\n",
       "\n",
       "    .dataframe thead th {\n",
       "        text-align: right;\n",
       "    }\n",
       "</style>\n",
       "<table border=\"1\" class=\"dataframe\">\n",
       "  <thead>\n",
       "    <tr style=\"text-align: right;\">\n",
       "      <th></th>\n",
       "      <th>Province/State</th>\n",
       "      <th>Confirmed</th>\n",
       "      <th>Deaths</th>\n",
       "      <th>Fatality Rate</th>\n",
       "    </tr>\n",
       "  </thead>\n",
       "  <tbody>\n",
       "    <tr>\n",
       "      <th>668</th>\n",
       "      <td>Unknown</td>\n",
       "      <td>7804169.0</td>\n",
       "      <td>4247616.0</td>\n",
       "      <td>54.427525</td>\n",
       "    </tr>\n",
       "    <tr>\n",
       "      <th>568</th>\n",
       "      <td>Santa Rosa County, FL</td>\n",
       "      <td>5.0</td>\n",
       "      <td>2.0</td>\n",
       "      <td>40.000000</td>\n",
       "    </tr>\n",
       "    <tr>\n",
       "      <th>338</th>\n",
       "      <td>Lee County, FL</td>\n",
       "      <td>6.0</td>\n",
       "      <td>2.0</td>\n",
       "      <td>33.333333</td>\n",
       "    </tr>\n",
       "    <tr>\n",
       "      <th>314</th>\n",
       "      <td>King County, WA</td>\n",
       "      <td>412.0</td>\n",
       "      <td>91.0</td>\n",
       "      <td>22.087379</td>\n",
       "    </tr>\n",
       "    <tr>\n",
       "      <th>499</th>\n",
       "      <td>Placer County, CA</td>\n",
       "      <td>28.0</td>\n",
       "      <td>6.0</td>\n",
       "      <td>21.428571</td>\n",
       "    </tr>\n",
       "    <tr>\n",
       "      <th>...</th>\n",
       "      <td>...</td>\n",
       "      <td>...</td>\n",
       "      <td>...</td>\n",
       "      <td>...</td>\n",
       "    </tr>\n",
       "    <tr>\n",
       "      <th>17</th>\n",
       "      <td>American Samoa</td>\n",
       "      <td>0.0</td>\n",
       "      <td>0.0</td>\n",
       "      <td>NaN</td>\n",
       "    </tr>\n",
       "    <tr>\n",
       "      <th>173</th>\n",
       "      <td>External territories</td>\n",
       "      <td>0.0</td>\n",
       "      <td>0.0</td>\n",
       "      <td>NaN</td>\n",
       "    </tr>\n",
       "    <tr>\n",
       "      <th>278</th>\n",
       "      <td>Jervis Bay Territory</td>\n",
       "      <td>0.0</td>\n",
       "      <td>0.0</td>\n",
       "      <td>NaN</td>\n",
       "    </tr>\n",
       "    <tr>\n",
       "      <th>404</th>\n",
       "      <td>Montgomery County, TX</td>\n",
       "      <td>0.0</td>\n",
       "      <td>0.0</td>\n",
       "      <td>NaN</td>\n",
       "    </tr>\n",
       "    <tr>\n",
       "      <th>526</th>\n",
       "      <td>Recovered</td>\n",
       "      <td>0.0</td>\n",
       "      <td>0.0</td>\n",
       "      <td>NaN</td>\n",
       "    </tr>\n",
       "  </tbody>\n",
       "</table>\n",
       "<p>736 rows × 4 columns</p>\n",
       "</div>"
      ],
      "text/plain": [
       "            Province/State  Confirmed     Deaths  Fatality Rate\n",
       "668                Unknown  7804169.0  4247616.0      54.427525\n",
       "568  Santa Rosa County, FL        5.0        2.0      40.000000\n",
       "338         Lee County, FL        6.0        2.0      33.333333\n",
       "314        King County, WA      412.0       91.0      22.087379\n",
       "499      Placer County, CA       28.0        6.0      21.428571\n",
       "..                     ...        ...        ...            ...\n",
       "17          American Samoa        0.0        0.0            NaN\n",
       "173   External territories        0.0        0.0            NaN\n",
       "278   Jervis Bay Territory        0.0        0.0            NaN\n",
       "404  Montgomery County, TX        0.0        0.0            NaN\n",
       "526              Recovered        0.0        0.0            NaN\n",
       "\n",
       "[736 rows x 4 columns]"
      ]
     },
     "execution_count": 143,
     "metadata": {},
     "output_type": "execute_result"
    }
   ],
   "source": [
    "# 18.How does the fatality rate vary across different provinces/states?\n",
    "country = df.groupby('Provinces/State')[['Confirmed','Deaths']].sum().reset_index()\n",
    "country['Fatality Rate'] = (country['Deaths'] / country['Confirmed']) * 100\n",
    "country_sorted = country.sort_values(by='Fatality Rate', ascending=False)\n",
    "country_sorted"
   ]
  },
  {
   "cell_type": "code",
   "execution_count": 144,
   "id": "0be96ace-6367-44cf-b31d-5273dc57e768",
   "metadata": {},
   "outputs": [
    {
     "data": {
      "text/html": [
       "<div>\n",
       "<style scoped>\n",
       "    .dataframe tbody tr th:only-of-type {\n",
       "        vertical-align: middle;\n",
       "    }\n",
       "\n",
       "    .dataframe tbody tr th {\n",
       "        vertical-align: top;\n",
       "    }\n",
       "\n",
       "    .dataframe thead th {\n",
       "        text-align: right;\n",
       "    }\n",
       "</style>\n",
       "<table border=\"1\" class=\"dataframe\">\n",
       "  <thead>\n",
       "    <tr style=\"text-align: right;\">\n",
       "      <th></th>\n",
       "      <th>Province/State</th>\n",
       "      <th>Recovered</th>\n",
       "      <th>Confirmed</th>\n",
       "      <th>Recovery Rate</th>\n",
       "    </tr>\n",
       "  </thead>\n",
       "  <tbody>\n",
       "    <tr>\n",
       "      <th>526</th>\n",
       "      <td>Recovered</td>\n",
       "      <td>504048696.0</td>\n",
       "      <td>0.0</td>\n",
       "      <td>inf</td>\n",
       "    </tr>\n",
       "    <tr>\n",
       "      <th>656</th>\n",
       "      <td>US</td>\n",
       "      <td>532.0</td>\n",
       "      <td>4.0</td>\n",
       "      <td>1.330000e+04</td>\n",
       "    </tr>\n",
       "    <tr>\n",
       "      <th>668</th>\n",
       "      <td>Unknown</td>\n",
       "      <td>619474280.0</td>\n",
       "      <td>7804169.0</td>\n",
       "      <td>7.937735e+03</td>\n",
       "    </tr>\n",
       "    <tr>\n",
       "      <th>527</th>\n",
       "      <td>Repatriated Travellers</td>\n",
       "      <td>2431.0</td>\n",
       "      <td>2431.0</td>\n",
       "      <td>1.000000e+02</td>\n",
       "    </tr>\n",
       "    <tr>\n",
       "      <th>549</th>\n",
       "      <td>Saint Helena, Ascension and Tristan da Cunha</td>\n",
       "      <td>863.0</td>\n",
       "      <td>882.0</td>\n",
       "      <td>9.784580e+01</td>\n",
       "    </tr>\n",
       "    <tr>\n",
       "      <th>...</th>\n",
       "      <td>...</td>\n",
       "      <td>...</td>\n",
       "      <td>...</td>\n",
       "      <td>...</td>\n",
       "    </tr>\n",
       "    <tr>\n",
       "      <th>735</th>\n",
       "      <td>Zuid-Holland</td>\n",
       "      <td>0.0</td>\n",
       "      <td>55835700.0</td>\n",
       "      <td>0.000000e+00</td>\n",
       "    </tr>\n",
       "    <tr>\n",
       "      <th>17</th>\n",
       "      <td>American Samoa</td>\n",
       "      <td>0.0</td>\n",
       "      <td>0.0</td>\n",
       "      <td>NaN</td>\n",
       "    </tr>\n",
       "    <tr>\n",
       "      <th>173</th>\n",
       "      <td>External territories</td>\n",
       "      <td>0.0</td>\n",
       "      <td>0.0</td>\n",
       "      <td>NaN</td>\n",
       "    </tr>\n",
       "    <tr>\n",
       "      <th>278</th>\n",
       "      <td>Jervis Bay Territory</td>\n",
       "      <td>0.0</td>\n",
       "      <td>0.0</td>\n",
       "      <td>NaN</td>\n",
       "    </tr>\n",
       "    <tr>\n",
       "      <th>404</th>\n",
       "      <td>Montgomery County, TX</td>\n",
       "      <td>0.0</td>\n",
       "      <td>0.0</td>\n",
       "      <td>NaN</td>\n",
       "    </tr>\n",
       "  </tbody>\n",
       "</table>\n",
       "<p>736 rows × 4 columns</p>\n",
       "</div>"
      ],
      "text/plain": [
       "                                   Province/State    Recovered   Confirmed  \\\n",
       "526                                     Recovered  504048696.0         0.0   \n",
       "656                                            US        532.0         4.0   \n",
       "668                                       Unknown  619474280.0   7804169.0   \n",
       "527                        Repatriated Travellers       2431.0      2431.0   \n",
       "549  Saint Helena, Ascension and Tristan da Cunha        863.0       882.0   \n",
       "..                                            ...          ...         ...   \n",
       "735                                  Zuid-Holland          0.0  55835700.0   \n",
       "17                                 American Samoa          0.0         0.0   \n",
       "173                          External territories          0.0         0.0   \n",
       "278                          Jervis Bay Territory          0.0         0.0   \n",
       "404                         Montgomery County, TX          0.0         0.0   \n",
       "\n",
       "     Recovery Rate  \n",
       "526            inf  \n",
       "656   1.330000e+04  \n",
       "668   7.937735e+03  \n",
       "527   1.000000e+02  \n",
       "549   9.784580e+01  \n",
       "..             ...  \n",
       "735   0.000000e+00  \n",
       "17             NaN  \n",
       "173            NaN  \n",
       "278            NaN  \n",
       "404            NaN  \n",
       "\n",
       "[736 rows x 4 columns]"
      ]
     },
     "execution_count": 144,
     "metadata": {},
     "output_type": "execute_result"
    }
   ],
   "source": [
    "# 19.How does the recovery rate vary across different provinces/states?\n",
    "country=df.groupby('Province/State')[['Recovered','Confirmed']].sum().reset_index()\n",
    "country['Recovery Rate']=(country['Recovered'] / country['Confirmed'])*100\n",
    "country_sorted=country.sort_values(by='Recovery Rate',ascending=False)\n",
    "country_sorted"
   ]
  },
  {
   "cell_type": "code",
   "execution_count": 169,
   "id": "126cd858-c559-424a-883c-418775021598",
   "metadata": {},
   "outputs": [
    {
     "data": {
      "text/plain": [
       "[<matplotlib.lines.Line2D at 0x1d12dfde180>]"
      ]
     },
     "execution_count": 169,
     "metadata": {},
     "output_type": "execute_result"
    },
    {
     "data": {
      "image/png": "[encoded data removed]",
      "text/plain": [
       "<Figure size 1200x600 with 1 Axes>"
      ]
     },
     "metadata": {},
     "output_type": "display_data"
    }
   ],
   "source": [
    "# 20.What is the trend of active cases over time globally?\n",
    "df['ObservationDate'] = pd.to_datetime(df['ObservationDate'])\n",
    "df = df.sort_values(by='ObservationDate')\n",
    "df['Active Cases'] = df['Confirmed'] - (df['Recovered'] + df['Deaths'])\n",
    "global_active_cases = df.groupby('ObservationDate')['Active Cases'].sum().reset_index()\n",
    "plt.figure(figsize=(12,6))\n",
    "plt.plot(global_active_cases['ObservationDate'],global_active_cases['Active Cases'],linestyle='-',marker='o')"
   ]
  },
  {
   "cell_type": "code",
   "execution_count": null,
   "id": "00e2b74b-a55f-436e-b3ae-b2e6cbda8efe",
   "metadata": {},
   "outputs": [],
   "source": []
  }
 ],
 "metadata": {
  "kernelspec": {
   "display_name": "Python 3 (ipykernel)",
   "language": "python",
   "name": "python3"
  },
  "language_info": {
   "codemirror_mode": {
    "name": "ipython",
    "version": 3
   },
   "file_extension": ".py",
   "mimetype": "text/x-python",
   "name": "python",
   "nbconvert_exporter": "python",
   "pygments_lexer": "ipython3",
   "version": "3.12.4"
  }
 },
 "nbformat": 4,
 "nbformat_minor": 5
}
